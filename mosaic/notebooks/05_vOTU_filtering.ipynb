{
 "cells": [
  {
   "cell_type": "markdown",
   "id": "ee329eda",
   "metadata": {},
   "source": [
    "# FILTER"
   ]
  },
  {
   "cell_type": "code",
   "execution_count": 5,
   "id": "673b4c28",
   "metadata": {},
   "outputs": [
    {
     "ename": "NameError",
     "evalue": "name '________' is not defined",
     "output_type": "error",
     "traceback": [
      "\u001b[0;31m---------------------------------------------------------------------------\u001b[0m",
      "\u001b[0;31mNameError\u001b[0m                                 Traceback (most recent call last)",
      "Cell \u001b[0;32mIn[5], line 12\u001b[0m\n\u001b[1;32m      9\u001b[0m input_genomad_plasmid_summary\u001b[38;5;241m=\u001b[39msnakemake\u001b[38;5;241m.\u001b[39minput\u001b[38;5;241m.\u001b[39mmerged_summary\n\u001b[1;32m     10\u001b[0m input_genomad_viral_fasta\u001b[38;5;241m=\u001b[39msnakemake\u001b[38;5;241m.\u001b[39minput\u001b[38;5;241m.\u001b[39mmerged_summary\n\u001b[0;32m---> 12\u001b[0m \u001b[43m________\u001b[49m\n",
      "\u001b[0;31mNameError\u001b[0m: name '________' is not defined"
     ]
    }
   ],
   "source": [
    "input_merged_summary=snakemake.input.merged_summary\n",
    "input_vibrant_circular=snakemake.input.merged_summary\n",
    "input_vibrant_positive=snakemake.input.merged_summary\n",
    "input_vibrant_quality=snakemake.input.merged_summary\n",
    "input_vibrant_summary=snakemake.input.merged_summary\n",
    "input_virsorter_table=snakemake.input.merged_summary\n",
    "input_virsorter_positive_list=snakemake.input.merged_summary\n",
    "input_genomad_virus_summary=snakemake.input.merged_summary\n",
    "input_genomad_plasmid_summary=snakemake.input.merged_summary\n",
    "input_genomad_viral_fasta=snakemake.input.merged_summary\n",
    "#________\n",
    "output_test=snakemake.output.fake\n",
    "\n",
    "open(output_test, mode='a').close()"
   ]
  },
  {
   "cell_type": "code",
   "execution_count": null,
   "id": "34dbfcf0",
   "metadata": {},
   "outputs": [],
   "source": [
    "checkv_df_vOTUs = pd.read_csv(input_merged_summary, sep=\"\\t\",\n",
    "                            names= [\"contig_id_vOTU\", \"contig_length_vOTU\", \"provirus_vOTU\", \"proviral_length_vOTU\",\n",
    "                           \"gene_count_vOTU\", \"viral_genes_vOTU\", \"host_genes_vOTU\", \"checkv_quality_vOTU\",\n",
    "                           \"miuvig_quality_vOTU\", \"completeness_vOTU\", \"completeness_method_vOTU\",\n",
    "                           \"contamination_vOTU\", \"kmer_freq_vOTU\", \"warnings_vOTU\"])\n",
    "checkv_df_vOTUs"
   ]
  },
  {
   "cell_type": "code",
   "execution_count": null,
   "id": "20598ae6",
   "metadata": {},
   "outputs": [],
   "source": []
  }
 ],
 "metadata": {
  "kernelspec": {
   "display_name": "Python 3 (ipykernel)",
   "language": "python",
   "name": "python3"
  },
  "language_info": {
   "codemirror_mode": {
    "name": "ipython",
    "version": 3
   },
   "file_extension": ".py",
   "mimetype": "text/x-python",
   "name": "python",
   "nbconvert_exporter": "python",
   "pygments_lexer": "ipython3",
   "version": "3.9.15"
  }
 },
 "nbformat": 4,
 "nbformat_minor": 5
}
