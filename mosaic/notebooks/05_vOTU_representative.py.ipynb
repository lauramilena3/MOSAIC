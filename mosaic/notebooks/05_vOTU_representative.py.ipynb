{
 "cells": [
  {
   "cell_type": "code",
   "execution_count": null,
   "id": "85993d3b",
   "metadata": {},
   "outputs": [],
   "source": [
    "import pandas as pd"
   ]
  },
  {
   "cell_type": "code",
   "execution_count": null,
   "id": "8ff1e2e9",
   "metadata": {},
   "outputs": [],
   "source": [
    "input_merged_summary=snakemake.input.merged_summary\n",
    "input_cluster_file=snakemake.input.cluster_file\n",
    "output_representatives=snakemake.output.representatives\n",
    "output_checkv_categories=snakemake.output.checkv_categories"
   ]
  },
  {
   "cell_type": "code",
   "execution_count": null,
   "id": "f3218f32",
   "metadata": {},
   "outputs": [],
   "source": [
    "# Read and preprocess the clustered_df DataFrame\n",
    "clustered_df = pd.read_csv(input_cluster_file, sep=\"\\t\", names=[\"rep\", \"mem\"])\n",
    "clustered_df[\"mem\"] = clustered_df[\"mem\"].str.split(\",\")\n",
    "clustered_df = clustered_df.explode('mem').reset_index(drop=True)\n",
    "\n",
    "# Read and preprocess the checkv_df_vOTUs DataFrame\n",
    "checkv_df_vOTUs = pd.read_csv(input_merged_summary, sep=\"\\t\",\n",
    "                            names= [\"contig_id_vOTU\", \"contig_length_vOTU\", \"provirus_vOTU\", \"proviral_length_vOTU\",\n",
    "                           \"gene_count_vOTU\", \"viral_genes_vOTU\", \"host_genes_vOTU\", \"checkv_quality_vOTU\",\n",
    "                           \"miuvig_quality_vOTU\", \"completeness_vOTU\", \"completeness_method_vOTU\",\n",
    "                           \"contamination_vOTU\", \"kmer_freq_vOTU\", \"warnings_vOTU\"])\n",
    "checkv_df_vOTUs = checkv_df_vOTUs[[\"contig_id_vOTU\", \"contig_length_vOTU\", \"checkv_quality_vOTU\",\n",
    "                                   \"completeness_vOTU\", \"provirus_vOTU\", \"warnings_vOTU\"]]\n",
    "checkv_df_vOTUs[\"contig_length_vOTU\"] = checkv_df_vOTUs[\"contig_length_vOTU\"].astype(float)\n",
    "checkv_df_vOTUs[\"completeness_vOTU\"] = checkv_df_vOTUs[\"completeness_vOTU\"].astype(float)\n",
    "\n",
    "# Create copies of the checkv_df_vOTUs DataFrame\n",
    "checkv_df_rep = checkv_df_vOTUs.copy()\n",
    "checkv_df_rep.columns = [\"contig_id_rep\", \"contig_length_rep\", \"checkv_quality_rep\", \"completeness_rep\",\n",
    "                         \"provirus_rep\", \"warnings_rep\"]\n",
    "\n",
    "# Merge DataFrames and drop unnecessary columns\n",
    "merged_df = clustered_df.merge(checkv_df_rep, left_on=\"rep\", right_on=\"contig_id_rep\", how=\"left\") \\\n",
    "                        .merge(checkv_df_vOTUs, left_on=\"mem\", right_on=\"contig_id_vOTU\", how=\"left\")\n",
    "merged_df = merged_df.drop(['contig_id_vOTU', 'contig_id_rep'], axis=1)\n",
    "merged_df[['completeness_vOTU', 'contig_length_vOTU', 'completeness_rep']] = merged_df[\n",
    "    ['completeness_vOTU', 'contig_length_vOTU', 'completeness_rep']].fillna(0)\n",
    "merged_df[\"completeness_vOTU\"] = merged_df[\"completeness_vOTU\"].astype(float)\n",
    "merged_df[\"contig_length_vOTU\"] = merged_df[\"contig_length_vOTU\"].astype(float)\n",
    "\n",
    "# Choose the contig with the highest completeness and the lowest contig length\n",
    "merged_df_best = merged_df[merged_df.groupby(['rep'], sort=False)['completeness_vOTU'].transform(max) == merged_df['completeness_vOTU']]\n",
    "merged_df_best = merged_df_best[merged_df_best.groupby(['rep'], sort=False)['contig_length_vOTU'].transform(min) == merged_df_best['contig_length_vOTU']]\n",
    "merged_df_best = merged_df_best.groupby(['rep']).first().reset_index()\n",
    "\n",
    "# Select final singletons and grouped contigs based on checkv quality\n",
    "final_singletons = merged_df_best[merged_df_best[\"rep\"] == merged_df_best[\"mem\"]][\"rep\"].tolist()\n",
    "\n",
    "merged_df_diff = merged_df_best[merged_df_best[\"rep\"] != merged_df_best[\"mem\"]]\n",
    "merged_df_diff = merged_df_diff.replace({'Complete': 4, 'High-quality': 3, 'Medium-quality': 2,'Low-quality': 1, 'Not-determined': 1})\n",
    "\n",
    "# Choose representatives based on checkv quality comparison\n",
    "merged_df_greatherthan = merged_df_diff[merged_df_diff[\"checkv_quality_rep\"] >= merged_df_diff[\"checkv_quality_vOTU\"]]\n",
    "gr1 = merged_df_greatherthan[\"rep\"].tolist()\n",
    "\n",
    "merged_df_smallerthan = merged_df_diff[merged_df_diff[\"checkv_quality_rep\"] < merged_df_diff[\"checkv_quality_vOTU\"]]\n",
    "gr2 = merged_df_smallerthan[\"mem\"].tolist()\n",
    "\n",
    "representatives = final_singletons + gr1 + gr2\n",
    "final_df_rep = checkv_df_vOTUs[checkv_df_vOTUs['contig_id_vOTU'].isin(representatives)]\n",
    "\n",
    "# Save representative contig IDs to a CSV file\n",
    "final_df_rep[\"contig_id_vOTU\"].to_csv(output_representatives, index=False, header=False)\n",
    "\n",
    "# Sort the final_df_rep DataFrame by contig_length_vOTU column\n",
    "final_df_rep.sort_values(by=\"contig_length_vOTU\")                                                            \n"
   ]
  },
  {
   "cell_type": "code",
   "execution_count": null,
   "id": "5846bd6c",
   "metadata": {},
   "outputs": [],
   "source": [
    "final_df_rep.groupby(\"checkv_quality_vOTU\").size().to_csv(output_checkv_categories, index=True, header=False)\n",
    "final_df_rep.groupby(\"checkv_quality_vOTU\").size().to_frame()"
   ]
  }
 ],
 "metadata": {
  "kernelspec": {
   "display_name": "Python 3 (ipykernel)",
   "language": "python",
   "name": "python3"
  },
  "language_info": {
   "codemirror_mode": {
    "name": "ipython",
    "version": 3
   },
   "file_extension": ".py",
   "mimetype": "text/x-python",
   "name": "python",
   "nbconvert_exporter": "python",
   "pygments_lexer": "ipython3",
   "version": "3.9.15"
  }
 },
 "nbformat": 4,
 "nbformat_minor": 5
}
