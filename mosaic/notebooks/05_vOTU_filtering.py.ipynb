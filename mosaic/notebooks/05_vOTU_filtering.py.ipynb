{
 "cells": [
  {
   "attachments": {},
   "cell_type": "markdown",
   "id": "ee329eda",
   "metadata": {},
   "source": [
    "# FILTER"
   ]
  },
  {
   "cell_type": "code",
   "execution_count": null,
   "id": "d73961a2",
   "metadata": {},
   "outputs": [],
   "source": [
    "import pandas as pd\n",
    "from Bio import SeqIO\n"
   ]
  },
  {
   "cell_type": "code",
   "execution_count": null,
   "id": "673b4c28",
   "metadata": {},
   "outputs": [],
   "source": [
    "input_merged_summary=snakemake.input.merged_summary\n",
    "input_vOTUs_prefiltered=snakemake.input.vOTUs_prefiltered\n",
    "input_vibrant_circular=snakemake.input.vibrant_circular\n",
    "input_vibrant_positive=snakemake.input.vibrant_positive\n",
    "input_vibrant_quality=snakemake.input.vibrant_quality\n",
    "input_vibrant_summary=snakemake.input.vibrant_summary\n",
    "input_virsorter_table=snakemake.input.virsorter_table\n",
    "input_virsorter_positive_list=snakemake.input.virsorter_positive_list\n",
    "input_genomad_virus_summary=snakemake.input.genomad_virus_summary\n",
    "input_genomad_plasmid_summary=snakemake.input.genomad_plasmid_summary\n",
    "input_genomad_viral_fasta=snakemake.input.genomad_viral_fasta\n",
    "input_genomad_viral_fasta_conservative=snakemake.input.genomad_viral_fasta_conservative\n",
    "#________\n",
    "output_summary=snakemake.output.summary\n",
    "\n"
   ]
  },
  {
   "cell_type": "code",
   "execution_count": null,
   "id": "34dbfcf0",
   "metadata": {},
   "outputs": [],
   "source": [
    "checkv_df= pd.read_csv(input_merged_summary, sep=\"\\t\",\n",
    "                            names= [\"contig_id_vOTU\", \"contig_length_vOTU\", \"provirus_vOTU\", \"proviral_length_vOTU\",\n",
    "                           \"gene_count_vOTU\", \"viral_genes_vOTU\", \"host_genes_vOTU\", \"checkv_quality_vOTU\",\n",
    "                           \"miuvig_quality_vOTU\", \"completeness_vOTU\", \"completeness_method_vOTU\",\n",
    "                           \"contamination_vOTU\", \"kmer_freq_vOTU\", \"warnings_vOTU\"])\n",
    "checkv_df"
   ]
  },
  {
   "cell_type": "code",
   "execution_count": null,
   "id": "20598ae6",
   "metadata": {},
   "outputs": [],
   "source": [
    "vOTU_list=[]\n",
    "for record in SeqIO.parse(input_vOTUs_prefiltered, \"fasta\"): vOTU_list.append(record.id)\n",
    "vOTU_prefiltered=pd.DataFrame(vOTU_list, columns=[\"vOTU_name\"])\n",
    "checkv_df= pd.read_csv(input_merged_summary, sep=\"\\t\",\n",
    "                            names= [\"checkV_contig_id\", \"checkV_contig_length\", \"checkV_provirus\", \"checkV_proviral_length\",\n",
    "                           \"checkV_gene_count\", \"checkV_viral_genes\", \"checkV_host_genes\", \"checkv_quality\",\n",
    "                           \"checkV_miuvig_quality\", \"checkV_completeness\", \"checkV_completeness_method\",\n",
    "                           \"checkV_contamination\", \"checkV_kmer_freq\", \"checkV_warnings\"])\n",
    "vibrant_circular_df=pd.read_csv(input_vibrant_circular, names=[\"VIBRANT_circular_name\"]); vibrant_circular_df[\"VIBRANT_circular\"]=\"Y\"\n",
    "vibrant_positive_df=pd.read_csv(input_vibrant_positive, names=[\"VIBRANT_positive_name\"]); vibrant_positive_df[\"VIBRANT_positive\"]=\"Y\"\n",
    "vibrant_quality_df=pd.read_csv(input_vibrant_quality, sep =\"\\t\"); vibrant_quality_df.columns=[\"VIBRANT_scaffold\",\"VIBRANT_lifecycle\",\"VIBRANT_quality\",]; vibrant_quality_df=vibrant_quality_df.groupby(\"VIBRANT_scaffold\").first()\n",
    "vibrant_summary_df=pd.read_csv(input_vibrant_summary, sep =\"\\t\") ; vibrant_summary_df.columns = ['VIBRANT_' + str(col).replace(\" \" , \"_\") for col in vibrant_summary_df.columns]\n",
    "virsorter_summary_df=pd.read_csv(input_virsorter_table, sep =\"\\t\"); virsorter_summary_df.columns = ['VirSorter2_' + str(col).replace(\" \" , \"_\") for col in virsorter_summary_df.columns]; virsorter_summary_df[\"VirSorter2_positive\"]=\"Y\"\n",
    "genomad_summary_df=pd.read_csv(input_genomad_virus_summary, sep =\"\\t\"); genomad_summary_df.columns = ['geNomad_' + str(col).replace(\" \" , \"_\") for col in genomad_summary_df.columns]\n",
    "\n",
    "viral_list=[]\n",
    "for record in SeqIO.parse(input_genomad_viral_fasta, \"fasta\"): viral_list.append(record.id)\n",
    "geNomad_viral=pd.DataFrame(viral_list, columns=[\"geNomad_viral_name\"]); geNomad_viral[\"geNomad_viral\"]=\"Y\"\n",
    "viral_list_conservative=[]\n",
    "for record in SeqIO.parse(input_genomad_viral_fasta_conservative, \"fasta\"): viral_list_conservative.append(record.id)\n",
    "geNomad_viral_conservative=pd.DataFrame(viral_list_conservative, columns=[\"geNomad_viral_conservative_name\"])\n",
    "geNomad_viral_conservative[\"geNomad_viral_conservative\"]=\"Y\"\n"
   ]
  },
  {
   "cell_type": "code",
   "execution_count": null,
   "id": "c0dbbc61",
   "metadata": {},
   "outputs": [],
   "source": [
    "df_temp1=vOTU_prefiltered.merge(vibrant_circular_df, left_on=\"vOTU_name\", right_on=\"VIBRANT_circular_name\", how=\"left\")\n",
    "df_temp2=df_temp1.merge(vibrant_positive_df, left_on=\"vOTU_name\", right_on=\"VIBRANT_positive_name\", how=\"left\")\n",
    "df_temp3=df_temp2.merge(vibrant_quality_df, left_on=\"vOTU_name\", right_on=\"VIBRANT_scaffold\", how=\"left\")\n",
    "df_temp4=df_temp3.merge(vibrant_summary_df, left_on=\"vOTU_name\", right_on=\"VIBRANT_scaffold\", how=\"left\")\n",
    "df_temp5=df_temp4.merge(virsorter_summary_df, left_on=\"vOTU_name\", right_on=\"VirSorter2_seqname\", how=\"left\")\n",
    "df_temp6=df_temp5.merge(genomad_summary_df, left_on=\"vOTU_name\", right_on=\"geNomad_seq_name\", how=\"left\")\n",
    "df_temp7=df_temp6.merge(geNomad_viral, left_on=\"vOTU_name\", right_on=\"geNomad_viral_name\", how=\"left\")\n",
    "df_temp8=df_temp7.merge(geNomad_viral_conservative, left_on=\"vOTU_name\", right_on=\"geNomad_viral_conservative_name\", how=\"left\")\n",
    "df_merged=df_temp8.merge(checkv_df, left_on=\"vOTU_name\", right_on=\"checkV_contig_id\", how=\"left\")\n",
    "df_merged=df_merged.drop([\"VIBRANT_circular_name\", \"VIBRANT_positive_name\", \"VIBRANT_scaffold\", \"checkV_contig_id\"], axis=1)\n",
    "df_merged\n",
    "\n",
    "# How many genomad, genomad conservative, virsorter, viridic\n",
    "#organize so they are at the beggining with the length"
   ]
  },
  {
   "cell_type": "code",
   "execution_count": null,
   "id": "70b367d5",
   "metadata": {},
   "outputs": [],
   "source": [
    "df_merged.to_csv(output_summary)"
   ]
  },
  {
   "cell_type": "code",
   "execution_count": null,
   "id": "69f50af3",
   "metadata": {},
   "outputs": [],
   "source": [
    "df=df_merged[[\"VirSorter2_positive\",\"VIBRANT_positive\",\"geNomad_viral\",\"geNomad_viral_conservative\"]]\n",
    "\n",
    "              \n",
    "import matplotlib.pyplot as plt\n",
    "from matplotlib_venn import venn3\n",
    "\n",
    "# Assuming your DataFrame is named df\n",
    "# Get the counts for each category\n",
    "a_count = df['VirSorter2_positive'].value_counts()['Y']\n",
    "b_count = df['VIBRANT_positive'].value_counts()['Y']\n",
    "c_count = df['geNomad_viral_conservative'].value_counts()['Y']\n",
    "ab_count = df[df['VirSorter2_positive'] == 'Y']['VIBRANT_positive'].value_counts()['Y']\n",
    "ac_count = df[df['VirSorter2_positive'] == 'Y']['geNomad_viral_conservative'].value_counts()['Y']\n",
    "bc_count = df[(df['VIBRANT_positive'] == 'Y') & (df['geNomad_viral_conservative'] == 'Y')]['VIBRANT_positive'].value_counts()['Y']\n",
    "abc_count = df[(df['VirSorter2_positive'] == 'Y') & (df['VIBRANT_positive'] == 'Y') & (df['geNomad_viral_conservative'] == 'Y')]['VIBRANT_positive'].value_counts()['Y']\n",
    "\n",
    "# Create the Venn diagram\n",
    "venn_labels = {'100': a_count - ab_count - ac_count + abc_count,\n",
    "               '010': b_count - ab_count - bc_count + abc_count,\n",
    "               '001': c_count - ac_count - bc_count + abc_count,\n",
    "               '110': ab_count - abc_count,\n",
    "               '101': ac_count - abc_count,\n",
    "               '011': bc_count - abc_count,\n",
    "               '111': abc_count}\n",
    "\n",
    "plt.figure(figsize=(8, 6))\n",
    "venn_diagram = venn3(subsets=venn_labels, set_labels=('VirSorter2_positive', 'VIBRANT_positive', 'geNomad_viral_conservative'))\n",
    "\n",
    "# Add the counts to the Venn diagram\n",
    "for text in venn_diagram.set_labels:\n",
    "    text.set_fontsize(14)\n",
    "for text in venn_diagram.subset_labels:\n",
    "    if text:\n",
    "        text.set_fontsize(12)\n",
    "\n",
    "# Show the Venn diagram\n",
    "plt.title(\"Venn Diagram of Categories 'VirSorter2_positive', 'VIBRANT_positive', and 'geNomad_viral_conservative'\")\n",
    "plt.show()\n"
   ]
  },
  {
   "cell_type": "code",
   "execution_count": null,
   "id": "30986830",
   "metadata": {},
   "outputs": [],
   "source": [
    "df=df_merged[[\"VirSorter2_positive\",\"VIBRANT_positive\",\"geNomad_viral\",\"geNomad_viral_conservative\"]]\n",
    "\n",
    "              \n",
    "import matplotlib.pyplot as plt\n",
    "from matplotlib_venn import venn3\n",
    "\n",
    "# Assuming your DataFrame is named df\n",
    "# Get the counts for each category\n",
    "a_count = df['VirSorter2_positive'].value_counts()['Y']\n",
    "b_count = df['VIBRANT_positive'].value_counts()['Y']\n",
    "c_count = df['geNomad_viral'].value_counts()['Y']\n",
    "ab_count = df[df['VirSorter2_positive'] == 'Y']['VIBRANT_positive'].value_counts()['Y']\n",
    "ac_count = df[df['VirSorter2_positive'] == 'Y']['geNomad_viral'].value_counts()['Y']\n",
    "bc_count = df[(df['VIBRANT_positive'] == 'Y') & (df['geNomad_viral'] == 'Y')]['VIBRANT_positive'].value_counts()['Y']\n",
    "abc_count = df[(df['VirSorter2_positive'] == 'Y') & (df['VIBRANT_positive'] == 'Y') & (df['geNomad_viral'] == 'Y')]['VIBRANT_positive'].value_counts()['Y']\n",
    "\n",
    "# Create the Venn diagram\n",
    "venn_labels = {'100': a_count - ab_count - ac_count + abc_count,\n",
    "               '010': b_count - ab_count - bc_count + abc_count,\n",
    "               '001': c_count - ac_count - bc_count + abc_count,\n",
    "               '110': ab_count - abc_count,\n",
    "               '101': ac_count - abc_count,\n",
    "               '011': bc_count - abc_count,\n",
    "               '111': abc_count}\n",
    "\n",
    "plt.figure(figsize=(8, 6))\n",
    "venn_diagram = venn3(subsets=venn_labels, set_labels=('VirSorter2_positive', 'VIBRANT_positive', 'geNomad_viral'))\n",
    "\n",
    "# Add the counts to the Venn diagram\n",
    "for text in venn_diagram.set_labels:\n",
    "    text.set_fontsize(14)\n",
    "for text in venn_diagram.subset_labels:\n",
    "    if text:\n",
    "        text.set_fontsize(12)\n",
    "\n",
    "# Show the Venn diagram\n",
    "plt.title(\"Venn Diagram of Categories 'VirSorter2_positive', 'VIBRANT_positive', and 'geNomad_viral'\")\n",
    "plt.show()\n"
   ]
  }
 ],
 "metadata": {
  "kernelspec": {
   "display_name": "Python 3 (ipykernel)",
   "language": "python",
   "name": "python3"
  },
  "language_info": {
   "codemirror_mode": {
    "name": "ipython",
    "version": 3
   },
   "file_extension": ".py",
   "mimetype": "text/x-python",
   "name": "python",
   "nbconvert_exporter": "python",
   "pygments_lexer": "ipython3",
   "version": "3.9.15"
  }
 },
 "nbformat": 4,
 "nbformat_minor": 5
}
