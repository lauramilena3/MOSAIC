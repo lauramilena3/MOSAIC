{
 "cells": [
  {
   "attachments": {},
   "cell_type": "markdown",
   "id": "ee329eda",
   "metadata": {},
   "source": [
    "# FILTER"
   ]
  },
  {
   "cell_type": "code",
   "execution_count": null,
   "id": "d73961a2",
   "metadata": {},
   "outputs": [],
   "source": [
    "impor pandas as pd"
   ]
  },
  {
   "cell_type": "code",
   "execution_count": null,
   "id": "673b4c28",
   "metadata": {},
   "outputs": [],
   "source": [
    "input_merged_summary=snakemake.input.merged_summary\n",
    "input_vibrant_circular=snakemake.input.vibrant_circular\n",
    "input_vibrant_positive=snakemake.input.vibrant_positive\n",
    "input_vibrant_quality=snakemake.input.vibrant_quality\n",
    "input_vibrant_summary=snakemake.input.vibrant_summary\n",
    "input_virsorter_table=snakemake.input.virsorter_table\n",
    "input_virsorter_positive_list=snakemake.input.virsorter_positive_list\n",
    "input_genomad_virus_summary=snakemake.input.genomad_virus_summary\n",
    "input_genomad_plasmid_summary=snakemake.input.genomad_plasmid_summary\n",
    "input_genomad_viral_fasta=snakemake.input.genomad_viral_fasta\n",
    "input_genomad_viral_fasta_conservative=snakemake.input.genomad_viral_fasta_conservative\n",
    "#________\n",
    "output_test=snakemake.output.fake\n",
    "\n",
    "open(output_test, mode='a').close()"
   ]
  },
  {
   "cell_type": "code",
   "execution_count": null,
   "id": "34dbfcf0",
   "metadata": {},
   "outputs": [],
   "source": [
    "\n",
    "checkv_df_vOTUs = pd.read_csv(input_merged_summary, sep=\"\\t\",\n",
    "                            names= [\"contig_id_vOTU\", \"contig_length_vOTU\", \"provirus_vOTU\", \"proviral_length_vOTU\",\n",
    "                           \"gene_count_vOTU\", \"viral_genes_vOTU\", \"host_genes_vOTU\", \"checkv_quality_vOTU\",\n",
    "                           \"miuvig_quality_vOTU\", \"completeness_vOTU\", \"completeness_method_vOTU\",\n",
    "                           \"contamination_vOTU\", \"kmer_freq_vOTU\", \"warnings_vOTU\"])\n",
    "checkv_df_vOTUs"
   ]
  },
  {
   "cell_type": "code",
   "execution_count": null,
   "id": "20598ae6",
   "metadata": {},
   "outputs": [],
   "source": []
  }
 ],
 "metadata": {
  "kernelspec": {
   "display_name": "Python 3 (ipykernel)",
   "language": "python",
   "name": "python3"
  },
  "language_info": {
   "codemirror_mode": {
    "name": "ipython",
    "version": 3
   },
   "file_extension": ".py",
   "mimetype": "text/x-python",
   "name": "python",
   "nbconvert_exporter": "python",
   "pygments_lexer": "ipython3",
   "version": "3.9.15"
  }
 },
 "nbformat": 4,
 "nbformat_minor": 5
}
