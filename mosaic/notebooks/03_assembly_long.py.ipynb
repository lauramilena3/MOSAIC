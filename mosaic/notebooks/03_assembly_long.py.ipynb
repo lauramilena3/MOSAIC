{
 "cells": [
  {
   "cell_type": "markdown",
   "id": "b9558c60",
   "metadata": {},
   "source": [
    "# LONG READ ORF SIZES"
   ]
  },
  {
   "cell_type": "code",
   "execution_count": null,
   "id": "f2be49df",
   "metadata": {},
   "outputs": [],
   "source": [
    "# import necessary modules\n",
    "import pandas as pd\n",
    "import matplotlib.pyplot as plt\n",
    "import seaborn as sns\n",
    "import matplotlib.pyplot as plt\n",
    "\n",
    "sns.set_style(\"ticks\",{'axes.grid' : True})\n",
    "sns.set_palette(\"colorblind\")\n",
    "\n",
    "plt.rcParams[\"axes.linewidth\"] = 1.5\n",
    "plt.rcParams[\"xtick.major.width\"] = 1.5\n",
    "plt.rcParams[\"ytick.major.width\"] = 1.5\n",
    "plt.rcParams[\"xtick.major.size\"] = 8\n",
    "plt.rcParams[\"ytick.major.size\"] = 8\n",
    "plt.rcParams[\"axes.titlepad\"] = 20\n",
    "\n",
    "plt.rcParams['svg.fonttype'] = 'none'\n",
    "plt.rcParams['axes.labelsize'] = 23.5\n",
    "plt.rcParams['xtick.labelsize'] = 18\n",
    "plt.rcParams['ytick.labelsize'] = 18\n",
    "plt.rcParams['legend.fontsize'] = 18\n",
    "plt.rcParams['font.family'] = 'sans-serif'\n",
    "plt.rcParams['font.sans-serif'] = ['Liberation Sans']\n",
    "plt.rcParams['text.usetex'] = False\n",
    "plt.rcParams['svg.fonttype'] = 'none'\n",
    "plt.rcParams[\"savefig.dpi\"]=300"
   ]
  },
  {
   "cell_type": "code",
   "execution_count": null,
   "id": "c23ba683",
   "metadata": {},
   "outputs": [],
   "source": [
    "input_hybrid=snakemake.input.hybrid\n",
    "input_canu=snakemake.input.canu\n",
    "input_medaka=snakemake.input.medaka\n",
    "input_racon1=snakemake.input.racon1\n",
    "input_racon2=snakemake.input.racon2\n",
    "input_pilon1=snakemake.input.scaffolds_pilon1_final\n",
    "input_pilon2=snakemake.input.scaffolds_pilon2_final\n",
    "input_pilon3=snakemake.input.scaffolds_pilon3_final\n",
    "input_pilon4=snakemake.input.scaffolds_pilon4_final\n",
    "input_caudovirales=snakemake.input.caudovirales\n",
    "\n",
    "SAMPLES_NANOPORE=list(snakemake.params.samples_nanopore)\n",
    "#----------------------------------------------------------------------\n",
    "output_orf_length_png=snakemake.output.orf_length_png\n",
    "output_orf_length_svg=snakemake.output.orf_length_svg\n"
   ]
  },
  {
   "cell_type": "code",
   "execution_count": null,
   "id": "4bf008f8",
   "metadata": {},
   "outputs": [],
   "source": [
    "hybrid=pd.read_csv(input_hybrid, sep=\"\\t\", names=[\"name\", \"len\", \"aa\"]).dropna().assign(Name='Hybrid')\n",
    "canu=pd.read_csv(input_canu, sep=\"\\t\", names=[\"name\", \"len\", \"aa\"]).dropna().assign(Name='Canu')\n",
    "medaka=pd.read_csv(input_medaka, sep=\"\\t\", names=[\"name\", \"len\", \"aa\"]).dropna().assign(Name='Medaka')\n",
    "racon1=pd.read_csv(input_racon1, sep=\"\\t\", names=[\"name\", \"len\", \"aa\"]).dropna().assign(Name='Racon 1')\n",
    "racon2=pd.read_csv(input_racon2, sep=\"\\t\", names=[\"name\", \"len\", \"aa\"]).dropna().assign(Name='Racon 2')\n",
    "pilon1=pd.read_csv(input_pilon1, sep=\"\\t\", names=[\"name\", \"len\", \"aa\"]).dropna().assign(Name='Pilon 1')\n",
    "pilon2=pd.read_csv(input_pilon2, sep=\"\\t\", names=[\"name\", \"len\", \"aa\"]).dropna().assign(Name='Pilon 2')\n",
    "pilon3=pd.read_csv(input_pilon3, sep=\"\\t\", names=[\"name\", \"len\", \"aa\"]).dropna().assign(Name='Pilon 3')\n",
    "pilon4=pd.read_csv(input_pilon4, sep=\"\\t\", names=[\"name\", \"len\", \"aa\"]).dropna().assign(Name='Pilon 4')\n",
    "caudovirales=pd.read_csv(input_caudovirales, sep=\"\\t\", names=[\"len\"]).dropna().assign(Name='Caudovirales \\n (09/05/23)')\n",
    "\n",
    "aa_len_df_full=pd.concat([canu , medaka, racon1, racon2, pilon1, pilon2, pilon3, pilon4,hybrid,caudovirales])\n",
    "aa_len_df=pd.concat([canu , medaka, racon2, pilon4,hybrid,caudovirales])\n",
    "\n"
   ]
  },
  {
   "cell_type": "code",
   "execution_count": null,
   "id": "2f93f39a",
   "metadata": {},
   "outputs": [],
   "source": [
    "# Calculate statistics on ORFs of each assembly type\n",
    "aa_len_df_full.groupby(\"Name\").agg(['mean', 'median', 'std', 'sum']).reindex([\"Hybrid\", \"Canu\",\"Medaka\",\"Racon (1)\",\"Racon (2)\",\"Pilon (1)\",\"Pilon (2)\",\"Pilon (3)\",\"Pilon (4)\", \"Caudovirales \\n (09/05/23)\"]).style.background_gradient(cmap=\"RdYlGn\")"
   ]
  },
  {
   "cell_type": "code",
   "execution_count": null,
   "id": "72eb4def",
   "metadata": {},
   "outputs": [],
   "source": [
    "# Create the bar chart using pandas dataframe\n",
    "ax=sns.boxplot(x=\"Name\", y=\"len\", data=aa_len_df, showfliers = False)\n",
    "\n",
    "# Set x and y labels and tick label sizes\n",
    "ax.set_xlabel(\"Assembly\")\n",
    "ax.set_ylabel(\"ORF length (aa)\")\n",
    "ax.set_xticklabels(ax.get_xticklabels(),rotation=90)\n",
    "\n",
    "# Set the y-limit \n",
    "ax.set_ylim(0, ax.get_ylim()[1])\n",
    "\n",
    "# # Save the figure as png and svg\n",
    "ax.figure.savefig(output_orf_length_png, format=\"png\", bbox_inches = \"tight\",transparent=True)\n",
    "ax.figure.savefig(output_orf_length_svg, format=\"svg\", bbox_inches = \"tight\",transparent=True)\n",
    "\n",
    "# Display the plot\n",
    "plt.show()"
   ]
  }
 ],
 "metadata": {
  "kernelspec": {
   "display_name": "Python 3 (ipykernel)",
   "language": "python",
   "name": "python3"
  },
  "language_info": {
   "codemirror_mode": {
    "name": "ipython",
    "version": 3
   },
   "file_extension": ".py",
   "mimetype": "text/x-python",
   "name": "python",
   "nbconvert_exporter": "python",
   "pygments_lexer": "ipython3",
   "version": "3.9.16"
  }
 },
 "nbformat": 4,
 "nbformat_minor": 5
}
